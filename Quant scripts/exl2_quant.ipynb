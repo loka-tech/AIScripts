{
 "cells": [
  {
   "cell_type": "markdown",
   "metadata": {},
   "source": [
    "Clone exllamav2 + dataset nya untuk kalibrasi"
   ]
  },
  {
   "cell_type": "code",
   "execution_count": null,
   "metadata": {},
   "outputs": [],
   "source": [
    "%cd /content\n",
    "!git clone https://github.com/turboderp/exllamav2\n",
    "%cd /content/exllamav2\n",
    "!pip install -r requirements.txt\n",
    "\n",
    "%cd /content/exllamav2/\n",
    "!rm -r dataset\n",
    "!mkdir dataset\n",
    "%cd dataset\n",
    "!wget https://huggingface.co/datasets/wikitext/resolve/refs%2Fconvert%2Fparquet/wikitext-2-v1/test/0000.parquet"
   ]
  },
  {
   "cell_type": "markdown",
   "metadata": {},
   "source": [
    "Gas? gas... :v\n",
    "\n",
    "cara pake:\n",
    "\n",
    " -i untuk input folder\n",
    "\n",
    " -o untuk output folder\n",
    "\n",
    " -c dataset untuk kalibrasi\n",
    "\n",
    " -cf output model quantized\n",
    "\n",
    " -b BPW BROO\n",
    "\n",
    " -ss shard size (dalam mb)\n",
    " \n",
    " -hb Head bit\n",
    "\n",
    " -m File measurement kalo ada wkwkwk"
   ]
  },
  {
   "cell_type": "code",
   "execution_count": null,
   "metadata": {},
   "outputs": [],
   "source": [
    "%cd /content/exllamav2/\n",
    "!rm -r /content/EXL2\n",
    "!rm -r /content/output\n",
    "!git pull --rebase --autostash\n",
    "%cd /content\n",
    "!mkdir EXL2\n",
    "!mkdir output\n",
    "%cd /content/exllamav2/\n",
    "!python convert.py \\\n",
    "    -i \"/content/merged20b\" \\\n",
    "    -o \"/content/EXL2\" \\\n",
    "    -c dataset \\\n",
    "    -cf \"/content/output\" \\\n",
    "    -b 3.13 \\\n",
    "    -ss 0 \\\n",
    "    -hb 8"
   ]
  },
  {
   "cell_type": "markdown",
   "metadata": {},
   "source": [
    "Test inference, ye kali ga di test dulu sebelum upload ke repo..."
   ]
  },
  {
   "cell_type": "code",
   "execution_count": null,
   "metadata": {},
   "outputs": [],
   "source": [
    "%cd /content/exllamav2/\n",
    "# !python test_inference.py -m \"/content/noro20kooten\" -ed \"/content/exllamav2/dataset\"\n",
    "# !python test_inference.py -m \"/content/noro20r136a1\" -ed \"/content/exllamav2/dataset\"\n",
    "\n",
    "# yg atas buat bandingin 2 perplexity, yg bawah buat generate + test speed\n",
    "\n",
    "!python test_inference.py -m \"/content/output\" -p \"Once upon a time,\"\n",
    "# !python test_inference.py -m \"/content/models/lzlv_70B-GPTQ\" -ps -s"
   ]
  },
  {
   "cell_type": "markdown",
   "metadata": {},
   "source": [
    "To be improved later..."
   ]
  }
 ],
 "metadata": {
  "language_info": {
   "name": "python"
  }
 },
 "nbformat": 4,
 "nbformat_minor": 2
}
