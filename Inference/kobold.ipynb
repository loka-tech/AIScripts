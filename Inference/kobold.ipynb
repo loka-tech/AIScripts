{
  "cells": [
    {
      "cell_type": "markdown",
      "metadata": {
        "id": "2FCn5tmpn3UV"
      },
      "source": [
        "## From the Official KoboldCpp Colab Notebook\n",
        "You can select a model from the dropdown, or enter a **custom URL** to a GGUF model (Example: `https://huggingface.co/KoboldAI/LLaMA2-13B-Tiefighter-GGUF/resolve/main/LLaMA2-13B-Tiefighter.Q4_K_M.gguf`)"
      ]
    },
    {
      "cell_type": "code",
      "execution_count": null,
      "metadata": {
        "cellView": "form",
        "colab": {
          "base_uri": "https://localhost:8080/"
        },
        "id": "uJS9i_Dltv8Y",
        "outputId": "37f92f50-f72b-4c8b-c6eb-309fa7bde61b"
      },
      "outputs": [],
      "source": [
        "#@title v-- Enter your model below and then click this to start Koboldcpp\n",
        "ForceRebuild = False #@param {type:\"boolean\"}\n",
        "\n",
        "import os\n",
        "if not os.path.isfile(\"/opt/bin/nvidia-smi\"):\n",
        "  raise RuntimeError(\"⚠️Colab did not give you a GPU due to usage limits, this can take a few hours before they let you back in. Check out https://lite.koboldai.net for a free alternative (that does not provide an API link but can load KoboldAI saves and chat cards) or subscribe to Colab Pro for immediate access.⚠️\")\n",
        "\n",
        "%cd /content\n",
        "!git clone https://github.com/LostRuins/koboldcpp\n",
        "%cd /content/koboldcpp\n",
        "kvers = !(cat koboldcpp.py | grep 'KcppVersion = ' | cut -d '\"' -f2)\n",
        "kvers = kvers[0]\n",
        "if ForceRebuild:\n",
        "  kvers = \"force_rebuild\"\n",
        "!echo Finding prebuilt binary for {kvers}\n",
        "!wget -O dlfile.tmp https://kcppcolab.concedo.workers.dev/?{kvers} && mv dlfile.tmp koboldcpp_cublas.so\n",
        "!test -f koboldcpp_cublas.so && echo Prebuilt Binary Exists || echo Prebuilt Binary Does Not Exist\n",
        "!test -f koboldcpp_cublas.so && echo Build Skipped || make koboldcpp_cublas LLAMA_CUBLAS=1 LLAMA_COLAB=1 LLAMA_PORTABLE=1\n",
        "!cp koboldcpp_cublas.so koboldcpp_cublas.dat\n",
        "!wget -q https://github.com/cloudflare/cloudflared/releases/latest/download/cloudflared-linux-amd64.deb -q -nv\n",
        "!apt-get install -qq ./cloudflared-linux-amd64.deb aria2"
      ]
    },
    {
      "cell_type": "code",
      "execution_count": null,
      "metadata": {
        "colab": {
          "base_uri": "https://localhost:8080/"
        },
        "id": "p1RVcdN-idFT",
        "outputId": "e9aae676-254c-491f-df8d-94c47bedc63c"
      },
      "outputs": [],
      "source": [
        "#@title Select model (GGUF)\n",
        "Model = \"https://huggingface.co/Lewdiculous/InfinityRP-v1-7B-GGUF-IQ-Imatrix/blob/main/InfinityRP-v1-7B-Q8_0-imat.gguf\" # @param [\"https://huggingface.co/R136a1/Madang/blob/gguf/lengkuasv2.Q6_K.gguf\", \"https://huggingface.co/Lewdiculous/Kunoichi-DPO-v2-7B-GGUF-Imatrix/blob/main/Kunoichi-DPO-v2-7B-Q8_0-imatrix.gguf\", \"https://huggingface.co/Lewdiculous/InfinityRP-v1-7B-GGUF-IQ-Imatrix/blob/main/InfinityRP-v1-7B-Q8_0-imat.gguf\", \"https://huggingface.co/Lewdiculous/Loyal-Toppy-Bruins-Maid-7B-DARE-GGUF-Imatrix/blob/main/Loyal-Toppy-Bruins-Maid-7B-DARE-Q8_0-imatrix.gguf\", \"https://huggingface.co/Lewdiculous/BuRP_7B-GGUF-IQ-Imatrix/blob/main/BuRP_7B-Q8_0-imat.gguf\", \"https://huggingface.co/Epiculous/Fett-uccine-7B-GGUF/blob/main/Fett-uccine-7B-Q8_0.gguf\"] {allow-input: true}\n",
        "Model = Model.replace(\"blob\", \"resolve\")\n",
        "name = Model.split(\"/\")[-1]\n",
        "\n",
        "print(\"Model list:\")\n",
        "!ls *.gguf\n",
        "print(f\"\\nSelected Model: {name}\")"
      ]
    },
    {
      "cell_type": "code",
      "execution_count": null,
      "metadata": {
        "colab": {
          "base_uri": "https://localhost:8080/"
        },
        "id": "gDaH7LCeCHir",
        "outputId": "ba178ae8-943f-4ddc-aad0-b590bae8c478"
      },
      "outputs": [],
      "source": [
        "#@title Download model\n",
        "!aria2c --console-log-level=error -c -x 16 -s 16 -k 1M $Model -o $name"
      ]
    },
    {
      "cell_type": "code",
      "execution_count": null,
      "metadata": {
        "id": "fCwi9i2Yhpiz"
      },
      "outputs": [],
      "source": [
        "#@title Start Koboldcpp\n",
        "%cd /content/koboldcpp/\n",
        "Layers = 99 #@param [99]{allow-input: true}\n",
        "ContextSize = \"8192\" # @param [\"4096\", \"6144\", \"8192\"] {allow-input: true}\n",
        "!python koboldcpp.py $name --usecublas 0 mmq --multiuser --gpulayers $Layers --contextsize $ContextSize --quiet --remotetunnel"
      ]
    }
  ],
  "metadata": {
    "accelerator": "GPU",
    "colab": {
      "gpuType": "T4",
      "provenance": []
    },
    "kernelspec": {
      "display_name": "Python 3",
      "name": "python3"
    },
    "language_info": {
      "name": "python"
    }
  },
  "nbformat": 4,
  "nbformat_minor": 0
}
