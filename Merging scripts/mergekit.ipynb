{
 "cells": [
  {
   "cell_type": "markdown",
   "metadata": {},
   "source": [
    "The mergekit, bisa pakai beberapa metode merge untuk gabungin 2 model atau lebih. info lebih lanjut: https://github.com/cg123/mergekit"
   ]
  },
  {
   "cell_type": "code",
   "execution_count": null,
   "metadata": {},
   "outputs": [],
   "source": [
    "#@title mergekit git clone\n",
    "%cd /content/\n",
    "!git clone https://github.com/cg123/mergekit.git\n",
    "%cd mergekit\n",
    "!pip install -e .\n",
    "!pip install --upgrade git+https://github.com/huggingface/transformers\n",
    "!rm -r /content/sample_data"
   ]
  },
  {
   "cell_type": "markdown",
   "metadata": {},
   "source": [
    "da settings"
   ]
  },
  {
   "cell_type": "code",
   "execution_count": null,
   "metadata": {},
   "outputs": [],
   "source": [
    "#@title mergekit settings.yml\n",
    "OUTPUT_PATH = \"/content/merged20b\"  # folder to store the result in\n",
    "LORA_MERGE_CACHE = \"/tmp\"  # change if you want to keep these for some reason\n",
    "CONFIG_YML = \"/content/merge-passthrough20b4m.yml\"  # merge configuration file\n",
    "COPY_TOKENIZER = True  # you want a tokenizer? yeah, that's what i thought"
   ]
  },
  {
   "cell_type": "markdown",
   "metadata": {},
   "source": [
    "merge? merge"
   ]
  },
  {
   "cell_type": "code",
   "execution_count": null,
   "metadata": {},
   "outputs": [],
   "source": [
    "#@title actually do merge\n",
    "import torch\n",
    "import mergekit.scripts.run_yaml\n",
    "\n",
    "mergekit.scripts.run_yaml.main(\n",
    "    CONFIG_YML,\n",
    "    OUTPUT_PATH,\n",
    "    LORA_MERGE_CACHE,\n",
    "    cuda=torch.cuda.is_available(),\n",
    "    copy_tokenizer=COPY_TOKENIZER,\n",
    ")"
   ]
  }
 ],
 "metadata": {
  "language_info": {
   "name": "python"
  }
 },
 "nbformat": 4,
 "nbformat_minor": 2
}
