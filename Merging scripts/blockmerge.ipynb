{
 "cells": [
  {
   "cell_type": "markdown",
   "metadata": {},
   "source": [
    "BlockMerge gradient merge from https://github.com/Gryphe/BlockMerge_Gradient\n",
    "\n",
    "Merge 2 model dengan metode gradient tensor. (butuh RAM sekitar 70GB untuk merge 2 model Llama 2 13B FP16, dari pengalaman tentunya hehe)"
   ]
  },
  {
   "cell_type": "markdown",
   "metadata": {},
   "source": [
    "Clone dulu bang"
   ]
  },
  {
   "cell_type": "code",
   "execution_count": null,
   "metadata": {},
   "outputs": [],
   "source": [
    "#@title BlockMerge Gradient\n",
    "%cd /content/\n",
    "!git clone https://github.com/Gryphe/BlockMerge_Gradient.git"
   ]
  },
  {
   "cell_type": "markdown",
   "metadata": {},
   "source": [
    "Gas ga? ya gas lah (dibawah cuma contoh)"
   ]
  },
  {
   "cell_type": "code",
   "execution_count": null,
   "metadata": {},
   "outputs": [],
   "source": [
    "#@title BlockMerge execute\n",
    "%cd /content/BlockMerge_Gradient\n",
    "!python BlockMerge_Gradient_Tensors.py --model_path1 \"/content/Time\" --model_path2 \"/content/Ethy\" --output_model_path \"/content/TimeEthy\" --gradient_values \"[0.2, 0.1, 0.2]\""
   ]
  }
 ],
 "metadata": {
  "language_info": {
   "name": "python"
  }
 },
 "nbformat": 4,
 "nbformat_minor": 2
}
